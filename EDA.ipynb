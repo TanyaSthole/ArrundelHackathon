{
 "cells": [
  {
   "attachments": {},
   "cell_type": "markdown",
   "metadata": {},
   "source": [
    "### Loading dataset"
   ]
  },
  {
   "cell_type": "code",
   "execution_count": 1,
   "metadata": {},
   "outputs": [
    {
     "data": {
      "text/html": [
       "<div>\n",
       "<style scoped>\n",
       "    .dataframe tbody tr th:only-of-type {\n",
       "        vertical-align: middle;\n",
       "    }\n",
       "\n",
       "    .dataframe tbody tr th {\n",
       "        vertical-align: top;\n",
       "    }\n",
       "\n",
       "    .dataframe thead th {\n",
       "        text-align: right;\n",
       "    }\n",
       "</style>\n",
       "<table border=\"1\" class=\"dataframe\">\n",
       "  <thead>\n",
       "    <tr style=\"text-align: right;\">\n",
       "      <th></th>\n",
       "      <th>Crop Type</th>\n",
       "      <th>Planting Date</th>\n",
       "      <th>Weather Conditions</th>\n",
       "      <th>Soil Characteristics</th>\n",
       "      <th>Fertilizer Usage</th>\n",
       "      <th>Crop Yield</th>\n",
       "    </tr>\n",
       "  </thead>\n",
       "  <tbody>\n",
       "    <tr>\n",
       "      <th>0</th>\n",
       "      <td>Squash</td>\n",
       "      <td>May 1st</td>\n",
       "      <td>Sunny, warm, humid</td>\n",
       "      <td>Silt loam</td>\n",
       "      <td>100 lbs/acre</td>\n",
       "      <td>150 bushels/acre</td>\n",
       "    </tr>\n",
       "    <tr>\n",
       "      <th>1</th>\n",
       "      <td>Maize</td>\n",
       "      <td>September 15th</td>\n",
       "      <td>Sunny, warm, humid</td>\n",
       "      <td>Sandy loam</td>\n",
       "      <td>100 lbs/acre</td>\n",
       "      <td>30 bushels/acre</td>\n",
       "    </tr>\n",
       "    <tr>\n",
       "      <th>2</th>\n",
       "      <td>Maize</td>\n",
       "      <td>July 15th</td>\n",
       "      <td>Rainy, cool, wet</td>\n",
       "      <td>Clay loam</td>\n",
       "      <td>120 lbs/acre</td>\n",
       "      <td>40 bushels/acre</td>\n",
       "    </tr>\n",
       "    <tr>\n",
       "      <th>3</th>\n",
       "      <td>Cucumbers</td>\n",
       "      <td>June 1st</td>\n",
       "      <td>Rainy, cool, wet</td>\n",
       "      <td>Silt loam</td>\n",
       "      <td>120 lbs/acre</td>\n",
       "      <td>40 bushels/acre</td>\n",
       "    </tr>\n",
       "    <tr>\n",
       "      <th>4</th>\n",
       "      <td>Squash</td>\n",
       "      <td>June 1st</td>\n",
       "      <td>Rainy, cool, wet</td>\n",
       "      <td>Sandy loam</td>\n",
       "      <td>150 lbs/acre</td>\n",
       "      <td>30 bushels/acre</td>\n",
       "    </tr>\n",
       "  </tbody>\n",
       "</table>\n",
       "</div>"
      ],
      "text/plain": [
       "   Crop Type   Planting Date  Weather Conditions Soil Characteristics  \\\n",
       "0     Squash         May 1st  Sunny, warm, humid            Silt loam   \n",
       "1      Maize  September 15th  Sunny, warm, humid           Sandy loam   \n",
       "2      Maize       July 15th    Rainy, cool, wet            Clay loam   \n",
       "3  Cucumbers        June 1st    Rainy, cool, wet            Silt loam   \n",
       "4     Squash        June 1st    Rainy, cool, wet           Sandy loam   \n",
       "\n",
       "  Fertilizer Usage        Crop Yield  \n",
       "0     100 lbs/acre  150 bushels/acre  \n",
       "1     100 lbs/acre   30 bushels/acre  \n",
       "2     120 lbs/acre   40 bushels/acre  \n",
       "3     120 lbs/acre   40 bushels/acre  \n",
       "4     150 lbs/acre   30 bushels/acre  "
      ]
     },
     "execution_count": 1,
     "metadata": {},
     "output_type": "execute_result"
    }
   ],
   "source": [
    "import pandas as pd\n",
    "import matplotlib.pyplot as plt\n",
    "\n",
    "# Loading the dataset\n",
    "dataset = pd.read_csv(\"./dataset.csv\")\n",
    "dataset.head()"
   ]
  },
  {
   "cell_type": "code",
   "execution_count": 47,
   "metadata": {},
   "outputs": [
    {
     "ename": "TypeError",
     "evalue": "'numpy.ndarray' object is not callable",
     "output_type": "error",
     "traceback": [
      "\u001b[1;31m---------------------------------------------------------------------------\u001b[0m",
      "\u001b[1;31mTypeError\u001b[0m                                 Traceback (most recent call last)",
      "Cell \u001b[1;32mIn[47], line 3\u001b[0m\n\u001b[0;32m      1\u001b[0m plants \u001b[39m=\u001b[39m dataset[\u001b[39m\"\u001b[39m\u001b[39mCrop Type\u001b[39m\u001b[39m\"\u001b[39m]\u001b[39m.\u001b[39munique()\n\u001b[0;32m      2\u001b[0m counts \u001b[39m=\u001b[39m dataset[\u001b[39m\"\u001b[39m\u001b[39mCrop Type\u001b[39m\u001b[39m\"\u001b[39m]\u001b[39m.\u001b[39mvalue_counts()\n\u001b[1;32m----> 3\u001b[0m counts\u001b[39m.\u001b[39;49mvalues()\n",
      "\u001b[1;31mTypeError\u001b[0m: 'numpy.ndarray' object is not callable"
     ]
    }
   ],
   "source": [
    "plants = dataset[\"Crop Type\"].unique()\n",
    "counts = dataset[\"Crop Type\"].value_counts()"
   ]
  }
 ],
 "metadata": {
  "kernelspec": {
   "display_name": "Python 3",
   "language": "python",
   "name": "python3"
  },
  "language_info": {
   "codemirror_mode": {
    "name": "ipython",
    "version": 3
   },
   "file_extension": ".py",
   "mimetype": "text/x-python",
   "name": "python",
   "nbconvert_exporter": "python",
   "pygments_lexer": "ipython3",
   "version": "3.11.1"
  },
  "orig_nbformat": 4
 },
 "nbformat": 4,
 "nbformat_minor": 2
}
