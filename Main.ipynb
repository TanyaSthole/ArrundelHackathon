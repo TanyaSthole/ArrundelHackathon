{
 "cells": [
  {
   "attachments": {},
   "cell_type": "markdown",
   "metadata": {},
   "source": [
    "### First 4 Columns of the data"
   ]
  },
  {
   "cell_type": "code",
   "execution_count": 1,
   "metadata": {},
   "outputs": [
    {
     "data": {
      "text/html": [
       "<div>\n",
       "<style scoped>\n",
       "    .dataframe tbody tr th:only-of-type {\n",
       "        vertical-align: middle;\n",
       "    }\n",
       "\n",
       "    .dataframe tbody tr th {\n",
       "        vertical-align: top;\n",
       "    }\n",
       "\n",
       "    .dataframe thead th {\n",
       "        text-align: right;\n",
       "    }\n",
       "</style>\n",
       "<table border=\"1\" class=\"dataframe\">\n",
       "  <thead>\n",
       "    <tr style=\"text-align: right;\">\n",
       "      <th></th>\n",
       "      <th>Crop Type</th>\n",
       "      <th>Planting Date</th>\n",
       "      <th>Weather Conditions</th>\n",
       "      <th>Soil Characteristics</th>\n",
       "      <th>Fertilizer Usage</th>\n",
       "      <th>Crop Yield</th>\n",
       "    </tr>\n",
       "  </thead>\n",
       "  <tbody>\n",
       "    <tr>\n",
       "      <th>0</th>\n",
       "      <td>Squash</td>\n",
       "      <td>May 1st</td>\n",
       "      <td>Sunny, warm, humid</td>\n",
       "      <td>Silt loam</td>\n",
       "      <td>100 lbs/acre</td>\n",
       "      <td>150 bushels/acre</td>\n",
       "    </tr>\n",
       "    <tr>\n",
       "      <th>1</th>\n",
       "      <td>Maize</td>\n",
       "      <td>September 15th</td>\n",
       "      <td>Sunny, warm, humid</td>\n",
       "      <td>Sandy loam</td>\n",
       "      <td>100 lbs/acre</td>\n",
       "      <td>30 bushels/acre</td>\n",
       "    </tr>\n",
       "    <tr>\n",
       "      <th>2</th>\n",
       "      <td>Maize</td>\n",
       "      <td>July 15th</td>\n",
       "      <td>Rainy, cool, wet</td>\n",
       "      <td>Clay loam</td>\n",
       "      <td>120 lbs/acre</td>\n",
       "      <td>40 bushels/acre</td>\n",
       "    </tr>\n",
       "    <tr>\n",
       "      <th>3</th>\n",
       "      <td>Cucumbers</td>\n",
       "      <td>June 1st</td>\n",
       "      <td>Rainy, cool, wet</td>\n",
       "      <td>Silt loam</td>\n",
       "      <td>120 lbs/acre</td>\n",
       "      <td>40 bushels/acre</td>\n",
       "    </tr>\n",
       "    <tr>\n",
       "      <th>4</th>\n",
       "      <td>Squash</td>\n",
       "      <td>June 1st</td>\n",
       "      <td>Rainy, cool, wet</td>\n",
       "      <td>Sandy loam</td>\n",
       "      <td>150 lbs/acre</td>\n",
       "      <td>30 bushels/acre</td>\n",
       "    </tr>\n",
       "  </tbody>\n",
       "</table>\n",
       "</div>"
      ],
      "text/plain": [
       "   Crop Type   Planting Date  Weather Conditions Soil Characteristics  \\\n",
       "0     Squash         May 1st  Sunny, warm, humid            Silt loam   \n",
       "1      Maize  September 15th  Sunny, warm, humid           Sandy loam   \n",
       "2      Maize       July 15th    Rainy, cool, wet            Clay loam   \n",
       "3  Cucumbers        June 1st    Rainy, cool, wet            Silt loam   \n",
       "4     Squash        June 1st    Rainy, cool, wet           Sandy loam   \n",
       "\n",
       "  Fertilizer Usage        Crop Yield  \n",
       "0     100 lbs/acre  150 bushels/acre  \n",
       "1     100 lbs/acre   30 bushels/acre  \n",
       "2     120 lbs/acre   40 bushels/acre  \n",
       "3     120 lbs/acre   40 bushels/acre  \n",
       "4     150 lbs/acre   30 bushels/acre  "
      ]
     },
     "execution_count": 1,
     "metadata": {},
     "output_type": "execute_result"
    }
   ],
   "source": [
    "import pandas as pd\n",
    "\n",
    "# Loading dataset\n",
    "dataset = pd.read_csv(\"./dataset.csv\")\n",
    "dataset.head()"
   ]
  },
  {
   "attachments": {},
   "cell_type": "markdown",
   "metadata": {},
   "source": [
    "### Describing the data"
   ]
  },
  {
   "cell_type": "code",
   "execution_count": 4,
   "metadata": {},
   "outputs": [
    {
     "data": {
      "text/html": [
       "<div>\n",
       "<style scoped>\n",
       "    .dataframe tbody tr th:only-of-type {\n",
       "        vertical-align: middle;\n",
       "    }\n",
       "\n",
       "    .dataframe tbody tr th {\n",
       "        vertical-align: top;\n",
       "    }\n",
       "\n",
       "    .dataframe thead th {\n",
       "        text-align: right;\n",
       "    }\n",
       "</style>\n",
       "<table border=\"1\" class=\"dataframe\">\n",
       "  <thead>\n",
       "    <tr style=\"text-align: right;\">\n",
       "      <th></th>\n",
       "      <th>Crop Type</th>\n",
       "      <th>Planting Date</th>\n",
       "      <th>Weather Conditions</th>\n",
       "      <th>Soil Characteristics</th>\n",
       "      <th>Fertilizer Usage</th>\n",
       "      <th>Crop Yield</th>\n",
       "    </tr>\n",
       "  </thead>\n",
       "  <tbody>\n",
       "    <tr>\n",
       "      <th>count</th>\n",
       "      <td>500</td>\n",
       "      <td>500</td>\n",
       "      <td>500</td>\n",
       "      <td>500</td>\n",
       "      <td>500</td>\n",
       "      <td>500</td>\n",
       "    </tr>\n",
       "    <tr>\n",
       "      <th>unique</th>\n",
       "      <td>10</td>\n",
       "      <td>10</td>\n",
       "      <td>3</td>\n",
       "      <td>3</td>\n",
       "      <td>3</td>\n",
       "      <td>3</td>\n",
       "    </tr>\n",
       "    <tr>\n",
       "      <th>top</th>\n",
       "      <td>Potatoes</td>\n",
       "      <td>August 1st</td>\n",
       "      <td>Sunny, warm, dry</td>\n",
       "      <td>Clay loam</td>\n",
       "      <td>100 lbs/acre</td>\n",
       "      <td>30 bushels/acre</td>\n",
       "    </tr>\n",
       "    <tr>\n",
       "      <th>freq</th>\n",
       "      <td>59</td>\n",
       "      <td>60</td>\n",
       "      <td>179</td>\n",
       "      <td>171</td>\n",
       "      <td>178</td>\n",
       "      <td>181</td>\n",
       "    </tr>\n",
       "  </tbody>\n",
       "</table>\n",
       "</div>"
      ],
      "text/plain": [
       "       Crop Type Planting Date Weather Conditions Soil Characteristics  \\\n",
       "count        500           500                500                  500   \n",
       "unique        10            10                  3                    3   \n",
       "top     Potatoes    August 1st   Sunny, warm, dry            Clay loam   \n",
       "freq          59            60                179                  171   \n",
       "\n",
       "       Fertilizer Usage       Crop Yield  \n",
       "count               500              500  \n",
       "unique                3                3  \n",
       "top        100 lbs/acre  30 bushels/acre  \n",
       "freq                178              181  "
      ]
     },
     "execution_count": 4,
     "metadata": {},
     "output_type": "execute_result"
    }
   ],
   "source": [
    "dataset.describe()"
   ]
  },
  {
   "attachments": {},
   "cell_type": "markdown",
   "metadata": {},
   "source": [
    "Making the model"
   ]
  },
  {
   "cell_type": "code",
   "execution_count": null,
   "metadata": {},
   "outputs": [],
   "source": [
    "model = 0"
   ]
  }
 ],
 "metadata": {
  "kernelspec": {
   "display_name": "Python 3",
   "language": "python",
   "name": "python3"
  },
  "language_info": {
   "codemirror_mode": {
    "name": "ipython",
    "version": 3
   },
   "file_extension": ".py",
   "mimetype": "text/x-python",
   "name": "python",
   "nbconvert_exporter": "python",
   "pygments_lexer": "ipython3",
   "version": "3.11.1"
  },
  "orig_nbformat": 4
 },
 "nbformat": 4,
 "nbformat_minor": 2
}
